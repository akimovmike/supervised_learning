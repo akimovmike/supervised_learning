{
 "cells": [
  {
   "cell_type": "markdown",
   "id": "372353bf",
   "metadata": {},
   "source": [
    "# Отток клиентов"
   ]
  },
  {
   "cell_type": "markdown",
   "id": "afe5cdc3",
   "metadata": {},
   "source": [
    "Из «Бета-Банка» стали уходить клиенты. Каждый месяц. Немного, но заметно. Банковские маркетологи посчитали: сохранять текущих клиентов дешевле, чем привлекать новых.\n",
    "\n",
    "Нужно спрогнозировать, уйдёт клиент из банка в ближайшее время или нет. Вам предоставлены исторические данные о поведении клиентов и расторжении договоров с банком. \n",
    "\n",
    "Постройте модель с предельно большим значением *F1*-меры. Чтобы сдать проект успешно, нужно довести метрику до 0.59. Проверьте *F1*-меру на тестовой выборке самостоятельно.\n",
    "\n",
    "Дополнительно измеряйте *AUC-ROC*, сравнивайте её значение с *F1*-мерой.\n",
    "\n",
    "Источник данных: [https://www.kaggle.com/barelydedicated/bank-customer-churn-modeling](https://www.kaggle.com/barelydedicated/bank-customer-churn-modeling)"
   ]
  },
  {
   "cell_type": "markdown",
   "id": "94a7aaaa",
   "metadata": {},
   "source": [
    "## План проекта"
   ]
  },
  {
   "cell_type": "markdown",
   "id": "a65bf34a",
   "metadata": {},
   "source": [
    "    1 Подготовка данных\n",
    "        - Осмотр и загрузка данных\n",
    "        - Удаление неинформативных признаков\n",
    "        - Обработка пропусков\n",
    "        - Обработка редких значений\n",
    "        - Обработка категориальных признаков\n",
    "        - Создание новых признаков\n",
    "        - Обработка количественных признаков\n",
    "        - Разбиение на трейн и тест\n",
    "    2 Исследование задачи\n",
    "        - Анализ баланса классов\n",
    "        - Тестирование моделей без устранения дизбаланса\n",
    "    3 Борьба с дисбалансом\n",
    "        - Отбрасывание избыточных образцов\n",
    "        - Дублирование недостающих образцов\n",
    "        - Учет дизбаланса на уровне весов\n",
    "        - Оптимизация гиперпараметров модели\n",
    "        - ROC-AUC curve\n",
    "    4 Тестирование модели"
   ]
  },
  {
   "cell_type": "markdown",
   "id": "bccc1f31",
   "metadata": {},
   "source": [
    "## Импорт библиотек"
   ]
  },
  {
   "cell_type": "code",
   "execution_count": 1,
   "id": "301d37d7",
   "metadata": {
    "ExecuteTime": {
     "end_time": "2023-07-22T13:11:34.808756Z",
     "start_time": "2023-07-22T13:11:34.208733Z"
    }
   },
   "outputs": [],
   "source": [
    "import pandas as pd\n",
    "import matplotlib.pyplot as plt\n",
    "from sklearn.metrics import roc_auc_score, f1_score, recall_score, make_scorer, classification_report\n",
    "%matplotlib inline"
   ]
  },
  {
   "cell_type": "code",
   "execution_count": 2,
   "id": "6c63800f",
   "metadata": {
    "ExecuteTime": {
     "end_time": "2023-07-22T13:11:34.811865Z",
     "start_time": "2023-07-22T13:11:34.810080Z"
    }
   },
   "outputs": [],
   "source": [
    "from sklearn.preprocessing import MinMaxScaler"
   ]
  },
  {
   "cell_type": "code",
   "execution_count": 3,
   "id": "1585e8aa",
   "metadata": {
    "ExecuteTime": {
     "end_time": "2023-07-22T13:11:34.821109Z",
     "start_time": "2023-07-22T13:11:34.813137Z"
    }
   },
   "outputs": [],
   "source": [
    "from sklearn.model_selection import train_test_split, RandomizedSearchCV, cross_validate, PredefinedSplit"
   ]
  },
  {
   "cell_type": "code",
   "execution_count": 4,
   "id": "6b3865e0",
   "metadata": {
    "ExecuteTime": {
     "end_time": "2023-07-22T13:11:34.850143Z",
     "start_time": "2023-07-22T13:11:34.822187Z"
    }
   },
   "outputs": [],
   "source": [
    "from sklearn.ensemble import RandomForestClassifier, ExtraTreesClassifier\n",
    "from sklearn.linear_model import LogisticRegression\n",
    "from sklearn.svm import SVC\n",
    "from sklearn.utils import shuffle"
   ]
  },
  {
   "cell_type": "code",
   "execution_count": 5,
   "id": "32ee1780",
   "metadata": {
    "ExecuteTime": {
     "end_time": "2023-07-22T13:11:34.852875Z",
     "start_time": "2023-07-22T13:11:34.851179Z"
    }
   },
   "outputs": [],
   "source": [
    "from sklearn.metrics import roc_curve "
   ]
  },
  {
   "cell_type": "code",
   "execution_count": 6,
   "id": "f19dbc99",
   "metadata": {
    "ExecuteTime": {
     "end_time": "2023-07-22T13:11:34.860419Z",
     "start_time": "2023-07-22T13:11:34.853697Z"
    }
   },
   "outputs": [],
   "source": [
    "import numpy as np"
   ]
  },
  {
   "cell_type": "code",
   "execution_count": 7,
   "id": "5945bb57",
   "metadata": {
    "ExecuteTime": {
     "end_time": "2023-07-22T13:11:34.867891Z",
     "start_time": "2023-07-22T13:11:34.861397Z"
    }
   },
   "outputs": [],
   "source": [
    "import warnings\n",
    "warnings.filterwarnings('ignore', '.*')"
   ]
  },
  {
   "cell_type": "markdown",
   "id": "4bc90d31",
   "metadata": {},
   "source": [
    "## Подготовка данных"
   ]
  },
  {
   "cell_type": "markdown",
   "id": "c656a2c6",
   "metadata": {},
   "source": [
    "### Осмотр данных"
   ]
  },
  {
   "cell_type": "markdown",
   "id": "8dfdad9d",
   "metadata": {},
   "source": [
    "Осматриваем данные на предмет того, нужно ли что-то учесть при загрузке"
   ]
  },
  {
   "cell_type": "code",
   "execution_count": 8,
   "id": "4c7d94fb",
   "metadata": {
    "ExecuteTime": {
     "end_time": "2023-07-22T13:11:34.985360Z",
     "start_time": "2023-07-22T13:11:34.869429Z"
    }
   },
   "outputs": [
    {
     "name": "stdout",
     "output_type": "stream",
     "text": [
      "\r\n",
      "\r\n",
      "\r\n",
      "\r\n",
      "\r\n",
      "\r\n",
      "\r\n",
      "\r\n",
      "\r\n",
      "\r\n"
     ]
    }
   ],
   "source": [
    "!head ./datasets/Churn.csv"
   ]
  },
  {
   "cell_type": "markdown",
   "id": "9035fbbe",
   "metadata": {},
   "source": [
    "Похоже, первая колонка - индекс, разделитель и десятичные знаки стандартные, дат нет"
   ]
  },
  {
   "cell_type": "code",
   "execution_count": 9,
   "id": "c36d3dc8",
   "metadata": {
    "ExecuteTime": {
     "end_time": "2023-07-22T13:11:35.015217Z",
     "start_time": "2023-07-22T13:11:34.992303Z"
    }
   },
   "outputs": [],
   "source": [
    "df = pd.read_csv('./datasets/Churn.csv', index_col=0)"
   ]
  },
  {
   "cell_type": "code",
   "execution_count": 10,
   "id": "82b7e7aa",
   "metadata": {
    "ExecuteTime": {
     "end_time": "2023-07-22T13:11:35.025812Z",
     "start_time": "2023-07-22T13:11:35.016207Z"
    }
   },
   "outputs": [
    {
     "data": {
      "text/html": [
       "<div>\n",
       "<style scoped>\n",
       "    .dataframe tbody tr th:only-of-type {\n",
       "        vertical-align: middle;\n",
       "    }\n",
       "\n",
       "    .dataframe tbody tr th {\n",
       "        vertical-align: top;\n",
       "    }\n",
       "\n",
       "    .dataframe thead th {\n",
       "        text-align: right;\n",
       "    }\n",
       "</style>\n",
       "<table border=\"1\" class=\"dataframe\">\n",
       "  <thead>\n",
       "    <tr style=\"text-align: right;\">\n",
       "      <th></th>\n",
       "      <th>CustomerId</th>\n",
       "      <th>Surname</th>\n",
       "      <th>CreditScore</th>\n",
       "      <th>Geography</th>\n",
       "      <th>Gender</th>\n",
       "      <th>Age</th>\n",
       "      <th>Tenure</th>\n",
       "      <th>Balance</th>\n",
       "      <th>NumOfProducts</th>\n",
       "      <th>HasCrCard</th>\n",
       "      <th>IsActiveMember</th>\n",
       "      <th>EstimatedSalary</th>\n",
       "      <th>Exited</th>\n",
       "    </tr>\n",
       "    <tr>\n",
       "      <th>RowNumber</th>\n",
       "      <th></th>\n",
       "      <th></th>\n",
       "      <th></th>\n",
       "      <th></th>\n",
       "      <th></th>\n",
       "      <th></th>\n",
       "      <th></th>\n",
       "      <th></th>\n",
       "      <th></th>\n",
       "      <th></th>\n",
       "      <th></th>\n",
       "      <th></th>\n",
       "      <th></th>\n",
       "    </tr>\n",
       "  </thead>\n",
       "  <tbody>\n",
       "    <tr>\n",
       "      <th>1</th>\n",
       "      <td>15634602</td>\n",
       "      <td>Hargrave</td>\n",
       "      <td>619</td>\n",
       "      <td>France</td>\n",
       "      <td>Female</td>\n",
       "      <td>42</td>\n",
       "      <td>2.0</td>\n",
       "      <td>0.00</td>\n",
       "      <td>1</td>\n",
       "      <td>1</td>\n",
       "      <td>1</td>\n",
       "      <td>101348.88</td>\n",
       "      <td>1</td>\n",
       "    </tr>\n",
       "    <tr>\n",
       "      <th>2</th>\n",
       "      <td>15647311</td>\n",
       "      <td>Hill</td>\n",
       "      <td>608</td>\n",
       "      <td>Spain</td>\n",
       "      <td>Female</td>\n",
       "      <td>41</td>\n",
       "      <td>1.0</td>\n",
       "      <td>83807.86</td>\n",
       "      <td>1</td>\n",
       "      <td>0</td>\n",
       "      <td>1</td>\n",
       "      <td>112542.58</td>\n",
       "      <td>0</td>\n",
       "    </tr>\n",
       "    <tr>\n",
       "      <th>3</th>\n",
       "      <td>15619304</td>\n",
       "      <td>Onio</td>\n",
       "      <td>502</td>\n",
       "      <td>France</td>\n",
       "      <td>Female</td>\n",
       "      <td>42</td>\n",
       "      <td>8.0</td>\n",
       "      <td>159660.80</td>\n",
       "      <td>3</td>\n",
       "      <td>1</td>\n",
       "      <td>0</td>\n",
       "      <td>113931.57</td>\n",
       "      <td>1</td>\n",
       "    </tr>\n",
       "    <tr>\n",
       "      <th>4</th>\n",
       "      <td>15701354</td>\n",
       "      <td>Boni</td>\n",
       "      <td>699</td>\n",
       "      <td>France</td>\n",
       "      <td>Female</td>\n",
       "      <td>39</td>\n",
       "      <td>1.0</td>\n",
       "      <td>0.00</td>\n",
       "      <td>2</td>\n",
       "      <td>0</td>\n",
       "      <td>0</td>\n",
       "      <td>93826.63</td>\n",
       "      <td>0</td>\n",
       "    </tr>\n",
       "    <tr>\n",
       "      <th>5</th>\n",
       "      <td>15737888</td>\n",
       "      <td>Mitchell</td>\n",
       "      <td>850</td>\n",
       "      <td>Spain</td>\n",
       "      <td>Female</td>\n",
       "      <td>43</td>\n",
       "      <td>2.0</td>\n",
       "      <td>125510.82</td>\n",
       "      <td>1</td>\n",
       "      <td>1</td>\n",
       "      <td>1</td>\n",
       "      <td>79084.10</td>\n",
       "      <td>0</td>\n",
       "    </tr>\n",
       "  </tbody>\n",
       "</table>\n",
       "</div>"
      ],
      "text/plain": [
       "           CustomerId   Surname  CreditScore Geography  Gender  Age  Tenure  \\\n",
       "RowNumber                                                                     \n",
       "1            15634602  Hargrave          619    France  Female   42     2.0   \n",
       "2            15647311      Hill          608     Spain  Female   41     1.0   \n",
       "3            15619304      Onio          502    France  Female   42     8.0   \n",
       "4            15701354      Boni          699    France  Female   39     1.0   \n",
       "5            15737888  Mitchell          850     Spain  Female   43     2.0   \n",
       "\n",
       "             Balance  NumOfProducts  HasCrCard  IsActiveMember  \\\n",
       "RowNumber                                                        \n",
       "1               0.00              1          1               1   \n",
       "2           83807.86              1          0               1   \n",
       "3          159660.80              3          1               0   \n",
       "4               0.00              2          0               0   \n",
       "5          125510.82              1          1               1   \n",
       "\n",
       "           EstimatedSalary  Exited  \n",
       "RowNumber                           \n",
       "1                101348.88       1  \n",
       "2                112542.58       0  \n",
       "3                113931.57       1  \n",
       "4                 93826.63       0  \n",
       "5                 79084.10       0  "
      ]
     },
     "execution_count": 10,
     "metadata": {},
     "output_type": "execute_result"
    }
   ],
   "source": [
    "df.head()"
   ]
  },
  {
   "cell_type": "code",
   "execution_count": 11,
   "id": "3c883225",
   "metadata": {
    "ExecuteTime": {
     "end_time": "2023-07-22T13:11:35.053433Z",
     "start_time": "2023-07-22T13:11:35.026730Z"
    }
   },
   "outputs": [
    {
     "name": "stdout",
     "output_type": "stream",
     "text": [
      "<class 'pandas.core.frame.DataFrame'>\n",
      "Int64Index: 10000 entries, 1 to 10000\n",
      "Data columns (total 13 columns):\n",
      " #   Column           Non-Null Count  Dtype  \n",
      "---  ------           --------------  -----  \n",
      " 0   CustomerId       10000 non-null  int64  \n",
      " 1   Surname          10000 non-null  object \n",
      " 2   CreditScore      10000 non-null  int64  \n",
      " 3   Geography        10000 non-null  object \n",
      " 4   Gender           10000 non-null  object \n",
      " 5   Age              10000 non-null  int64  \n",
      " 6   Tenure           9091 non-null   float64\n",
      " 7   Balance          10000 non-null  float64\n",
      " 8   NumOfProducts    10000 non-null  int64  \n",
      " 9   HasCrCard        10000 non-null  int64  \n",
      " 10  IsActiveMember   10000 non-null  int64  \n",
      " 11  EstimatedSalary  10000 non-null  float64\n",
      " 12  Exited           10000 non-null  int64  \n",
      "dtypes: float64(3), int64(7), object(3)\n",
      "memory usage: 1.1+ MB\n"
     ]
    }
   ],
   "source": [
    "df.info()"
   ]
  },
  {
   "cell_type": "code",
   "execution_count": 12,
   "id": "5cae7080",
   "metadata": {
    "ExecuteTime": {
     "end_time": "2023-07-22T13:11:35.072200Z",
     "start_time": "2023-07-22T13:11:35.056822Z"
    }
   },
   "outputs": [
    {
     "data": {
      "text/plain": [
       "CustomerId         10000\n",
       "Surname             2932\n",
       "CreditScore          460\n",
       "Geography              3\n",
       "Gender                 2\n",
       "Age                   70\n",
       "Tenure                11\n",
       "Balance             6382\n",
       "NumOfProducts          4\n",
       "HasCrCard              2\n",
       "IsActiveMember         2\n",
       "EstimatedSalary     9999\n",
       "Exited                 2\n",
       "dtype: int64"
      ]
     },
     "execution_count": 12,
     "metadata": {},
     "output_type": "execute_result"
    }
   ],
   "source": [
    "df.nunique()"
   ]
  },
  {
   "cell_type": "markdown",
   "id": "89d260a8",
   "metadata": {},
   "source": [
    "### Удаление неинформативных признаков"
   ]
  },
  {
   "cell_type": "markdown",
   "id": "2da08ac5",
   "metadata": {},
   "source": [
    "Колонка CustomerId носит описательный характер,т.е. это уникальный идентификатор пользователя, который признаком не являются. Отбросим ее - полезной информации в них нет. Фамилия могла бы быть полезным признаком (общее поведение у родственников), если бы была более точная география или отчество, а без этого она может скорее дизориентировать модель, потому безопаснее ее исключить."
   ]
  },
  {
   "cell_type": "code",
   "execution_count": 13,
   "id": "d370d62f",
   "metadata": {
    "ExecuteTime": {
     "end_time": "2023-07-22T13:11:35.076604Z",
     "start_time": "2023-07-22T13:11:35.073621Z"
    }
   },
   "outputs": [],
   "source": [
    "df = df.drop(['CustomerId', 'Surname'], axis=1)"
   ]
  },
  {
   "cell_type": "markdown",
   "id": "6e9c1ce2",
   "metadata": {},
   "source": [
    "### Обработка пропусков"
   ]
  },
  {
   "cell_type": "markdown",
   "id": "827b5e4e",
   "metadata": {},
   "source": [
    "Пропуски есть только в колонке Tenure, причем их порядка 10%, то есть просто отбрасывать эту часть данных некорректно. Можно допустить, что это люди, которые стали клиентами банка недавно, и заполнить пропуски нулями"
   ]
  },
  {
   "cell_type": "code",
   "execution_count": 14,
   "id": "aa677a0a",
   "metadata": {
    "ExecuteTime": {
     "end_time": "2023-07-22T13:11:35.084493Z",
     "start_time": "2023-07-22T13:11:35.077719Z"
    }
   },
   "outputs": [],
   "source": [
    "df['Tenure'] = df.Tenure.fillna(0)"
   ]
  },
  {
   "cell_type": "markdown",
   "id": "c9283a84",
   "metadata": {},
   "source": [
    "### Анализ редких значений"
   ]
  },
  {
   "cell_type": "markdown",
   "id": "6d423744",
   "metadata": {},
   "source": [
    "#### Категориальные признаки"
   ]
  },
  {
   "cell_type": "code",
   "execution_count": 15,
   "id": "cb1e2e1f",
   "metadata": {
    "ExecuteTime": {
     "end_time": "2023-07-22T13:11:35.091745Z",
     "start_time": "2023-07-22T13:11:35.085691Z"
    }
   },
   "outputs": [],
   "source": [
    "categorials = ['HasCrCard', 'IsActiveMember', 'Gender', 'Geography']"
   ]
  },
  {
   "cell_type": "code",
   "execution_count": 16,
   "id": "9f19b1c3",
   "metadata": {
    "ExecuteTime": {
     "end_time": "2023-07-22T13:11:35.103686Z",
     "start_time": "2023-07-22T13:11:35.092984Z"
    }
   },
   "outputs": [
    {
     "name": "stdout",
     "output_type": "stream",
     "text": [
      "1    0.7055\n",
      "0    0.2945\n",
      "Name: HasCrCard, dtype: float64\n",
      "1    0.5151\n",
      "0    0.4849\n",
      "Name: IsActiveMember, dtype: float64\n",
      "Male      0.5457\n",
      "Female    0.4543\n",
      "Name: Gender, dtype: float64\n",
      "France     0.5014\n",
      "Germany    0.2509\n",
      "Spain      0.2477\n",
      "Name: Geography, dtype: float64\n"
     ]
    }
   ],
   "source": [
    "for col in categorials:\n",
    "    print(df[col].value_counts(normalize=True))"
   ]
  },
  {
   "cell_type": "markdown",
   "id": "b046586f",
   "metadata": {},
   "source": [
    "Частоты категориальных признаков составляют не менее 25%, то есть редких значений нет"
   ]
  },
  {
   "cell_type": "markdown",
   "id": "521f1ec5",
   "metadata": {},
   "source": [
    "#### Количественные признаки"
   ]
  },
  {
   "cell_type": "code",
   "execution_count": 17,
   "id": "6c798019",
   "metadata": {
    "ExecuteTime": {
     "end_time": "2023-07-22T13:11:35.111032Z",
     "start_time": "2023-07-22T13:11:35.104802Z"
    }
   },
   "outputs": [],
   "source": [
    "pd.options.display.float_format = '{:.2f}'.format"
   ]
  },
  {
   "cell_type": "code",
   "execution_count": 18,
   "id": "85b1c812",
   "metadata": {
    "ExecuteTime": {
     "end_time": "2023-07-22T13:11:35.822224Z",
     "start_time": "2023-07-22T13:11:35.112256Z"
    }
   },
   "outputs": [
    {
     "data": {
      "image/png": "[encoded data removed]",
      "text/plain": [
       "<Figure size 432x288 with 1 Axes>"
      ]
     },
     "metadata": {
      "needs_background": "light"
     },
     "output_type": "display_data"
    },
    {
     "data": {
      "image/png": "[encoded data removed]",
      "text/plain": [
       "<Figure size 432x288 with 1 Axes>"
      ]
     },
     "metadata": {
      "needs_background": "light"
     },
     "output_type": "display_data"
    },
    {
     "data": {
      "image/png": "[encoded data removed]",
      "text/plain": [
       "<Figure size 432x288 with 1 Axes>"
      ]
     },
     "metadata": {
      "needs_background": "light"
     },
     "output_type": "display_data"
    },
    {
     "data": {
      "image/png": "[encoded data removed]",
      "text/plain": [
       "<Figure size 432x288 with 1 Axes>"
      ]
     },
     "metadata": {
      "needs_background": "light"
     },
     "output_type": "display_data"
    },
    {
     "data": {
      "image/png": "[encoded data removed]",
      "text/plain": [
       "<Figure size 432x288 with 1 Axes>"
      ]
     },
     "metadata": {
      "needs_background": "light"
     },
     "output_type": "display_data"
    },
    {
     "data": {
      "image/png": "[encoded data removed]",
      "text/plain": [
       "<Figure size 432x288 with 1 Axes>"
      ]
     },
     "metadata": {
      "needs_background": "light"
     },
     "output_type": "display_data"
    }
   ],
   "source": [
    "# Исходный вид данных\n",
    "for col in df.columns.difference(categorials+['Exited']):\n",
    "    df[[col]].plot(kind='hist', bins=20);\n",
    "    plt.title(f'Распределение признака {col}, '+\n",
    "              f'q0.005={df[[col]].quantile(q=0.005)[0]}, '+\n",
    "              f'q0.995={df[[col]].quantile(q=0.995)[0]}');\n",
    "    plt.axvline(df[[col]].quantile(q=0.995)[0])\n",
    "    plt.axvline(df[[col]].quantile(q=0.005)[0])"
   ]
  },
  {
   "cell_type": "code",
   "execution_count": 19,
   "id": "f6bb1926",
   "metadata": {
    "ExecuteTime": {
     "end_time": "2023-07-22T13:11:35.838615Z",
     "start_time": "2023-07-22T13:11:35.823304Z"
    }
   },
   "outputs": [
    {
     "data": {
      "text/html": [
       "<div>\n",
       "<style scoped>\n",
       "    .dataframe tbody tr th:only-of-type {\n",
       "        vertical-align: middle;\n",
       "    }\n",
       "\n",
       "    .dataframe tbody tr th {\n",
       "        vertical-align: top;\n",
       "    }\n",
       "\n",
       "    .dataframe thead th {\n",
       "        text-align: right;\n",
       "    }\n",
       "</style>\n",
       "<table border=\"1\" class=\"dataframe\">\n",
       "  <thead>\n",
       "    <tr style=\"text-align: right;\">\n",
       "      <th></th>\n",
       "      <th>CreditScore</th>\n",
       "      <th>Age</th>\n",
       "      <th>Tenure</th>\n",
       "      <th>Balance</th>\n",
       "      <th>NumOfProducts</th>\n",
       "      <th>EstimatedSalary</th>\n",
       "    </tr>\n",
       "  </thead>\n",
       "  <tbody>\n",
       "    <tr>\n",
       "      <th>count</th>\n",
       "      <td>10000.00</td>\n",
       "      <td>10000.00</td>\n",
       "      <td>10000.00</td>\n",
       "      <td>10000.00</td>\n",
       "      <td>10000.00</td>\n",
       "      <td>10000.00</td>\n",
       "    </tr>\n",
       "    <tr>\n",
       "      <th>mean</th>\n",
       "      <td>650.53</td>\n",
       "      <td>38.92</td>\n",
       "      <td>4.54</td>\n",
       "      <td>76485.89</td>\n",
       "      <td>1.53</td>\n",
       "      <td>100090.24</td>\n",
       "    </tr>\n",
       "    <tr>\n",
       "      <th>std</th>\n",
       "      <td>96.65</td>\n",
       "      <td>10.49</td>\n",
       "      <td>3.11</td>\n",
       "      <td>62397.41</td>\n",
       "      <td>0.58</td>\n",
       "      <td>57510.49</td>\n",
       "    </tr>\n",
       "    <tr>\n",
       "      <th>min</th>\n",
       "      <td>350.00</td>\n",
       "      <td>18.00</td>\n",
       "      <td>0.00</td>\n",
       "      <td>0.00</td>\n",
       "      <td>1.00</td>\n",
       "      <td>11.58</td>\n",
       "    </tr>\n",
       "    <tr>\n",
       "      <th>0.5%</th>\n",
       "      <td>418.00</td>\n",
       "      <td>20.00</td>\n",
       "      <td>0.00</td>\n",
       "      <td>0.00</td>\n",
       "      <td>1.00</td>\n",
       "      <td>878.78</td>\n",
       "    </tr>\n",
       "    <tr>\n",
       "      <th>1%</th>\n",
       "      <td>432.00</td>\n",
       "      <td>21.00</td>\n",
       "      <td>0.00</td>\n",
       "      <td>0.00</td>\n",
       "      <td>1.00</td>\n",
       "      <td>1842.83</td>\n",
       "    </tr>\n",
       "    <tr>\n",
       "      <th>5%</th>\n",
       "      <td>489.00</td>\n",
       "      <td>25.00</td>\n",
       "      <td>0.00</td>\n",
       "      <td>0.00</td>\n",
       "      <td>1.00</td>\n",
       "      <td>9851.82</td>\n",
       "    </tr>\n",
       "    <tr>\n",
       "      <th>50%</th>\n",
       "      <td>652.00</td>\n",
       "      <td>37.00</td>\n",
       "      <td>4.00</td>\n",
       "      <td>97198.54</td>\n",
       "      <td>1.00</td>\n",
       "      <td>100193.91</td>\n",
       "    </tr>\n",
       "    <tr>\n",
       "      <th>95%</th>\n",
       "      <td>812.00</td>\n",
       "      <td>60.00</td>\n",
       "      <td>9.00</td>\n",
       "      <td>162711.67</td>\n",
       "      <td>2.00</td>\n",
       "      <td>190155.38</td>\n",
       "    </tr>\n",
       "    <tr>\n",
       "      <th>97.5%</th>\n",
       "      <td>847.00</td>\n",
       "      <td>66.00</td>\n",
       "      <td>10.00</td>\n",
       "      <td>174180.53</td>\n",
       "      <td>3.00</td>\n",
       "      <td>195168.01</td>\n",
       "    </tr>\n",
       "    <tr>\n",
       "      <th>99%</th>\n",
       "      <td>850.00</td>\n",
       "      <td>72.00</td>\n",
       "      <td>10.00</td>\n",
       "      <td>185967.99</td>\n",
       "      <td>3.00</td>\n",
       "      <td>198069.73</td>\n",
       "    </tr>\n",
       "    <tr>\n",
       "      <th>99.5%</th>\n",
       "      <td>850.00</td>\n",
       "      <td>75.00</td>\n",
       "      <td>10.00</td>\n",
       "      <td>193126.29</td>\n",
       "      <td>4.00</td>\n",
       "      <td>199139.16</td>\n",
       "    </tr>\n",
       "    <tr>\n",
       "      <th>max</th>\n",
       "      <td>850.00</td>\n",
       "      <td>92.00</td>\n",
       "      <td>10.00</td>\n",
       "      <td>250898.09</td>\n",
       "      <td>4.00</td>\n",
       "      <td>199992.48</td>\n",
       "    </tr>\n",
       "  </tbody>\n",
       "</table>\n",
       "</div>"
      ],
      "text/plain": [
       "       CreditScore      Age   Tenure   Balance  NumOfProducts  EstimatedSalary\n",
       "count     10000.00 10000.00 10000.00  10000.00       10000.00         10000.00\n",
       "mean        650.53    38.92     4.54  76485.89           1.53        100090.24\n",
       "std          96.65    10.49     3.11  62397.41           0.58         57510.49\n",
       "min         350.00    18.00     0.00      0.00           1.00            11.58\n",
       "0.5%        418.00    20.00     0.00      0.00           1.00           878.78\n",
       "1%          432.00    21.00     0.00      0.00           1.00          1842.83\n",
       "5%          489.00    25.00     0.00      0.00           1.00          9851.82\n",
       "50%         652.00    37.00     4.00  97198.54           1.00        100193.91\n",
       "95%         812.00    60.00     9.00 162711.67           2.00        190155.38\n",
       "97.5%       847.00    66.00    10.00 174180.53           3.00        195168.01\n",
       "99%         850.00    72.00    10.00 185967.99           3.00        198069.73\n",
       "99.5%       850.00    75.00    10.00 193126.29           4.00        199139.16\n",
       "max         850.00    92.00    10.00 250898.09           4.00        199992.48"
      ]
     },
     "execution_count": 19,
     "metadata": {},
     "output_type": "execute_result"
    }
   ],
   "source": [
    "df.drop(categorials+['Exited'], axis=1).describe(\n",
    "    percentiles=[0.005,0.01, 0.05, 0.95, 0.975, 0.99,0.995])"
   ]
  },
  {
   "cell_type": "markdown",
   "id": "d6adb4c7",
   "metadata": {},
   "source": [
    "Можно удалить редкие значения:\n",
    "- для CreditScore малые значения ниже 432\n",
    "- для Age значения меньше 20 лет и больше 75 лет\n",
    "- для баланса значения больше 193126\n",
    "- для NumOfProducts больше 3"
   ]
  },
  {
   "cell_type": "code",
   "execution_count": 20,
   "id": "68070d9f",
   "metadata": {
    "ExecuteTime": {
     "end_time": "2023-07-22T13:11:35.844231Z",
     "start_time": "2023-07-22T13:11:35.839699Z"
    }
   },
   "outputs": [],
   "source": [
    "df = df[df.CreditScore >= 432]\n",
    "df = df[df.Balance <= 193126]\n",
    "df = df[df.NumOfProducts <= 3]\n",
    "df = df[(df.Age >= 20)&(df.Age<=75)]"
   ]
  },
  {
   "cell_type": "code",
   "execution_count": 21,
   "id": "54b48dfa",
   "metadata": {
    "ExecuteTime": {
     "end_time": "2023-07-22T13:11:35.850474Z",
     "start_time": "2023-07-22T13:11:35.845183Z"
    },
    "scrolled": true
   },
   "outputs": [
    {
     "data": {
      "text/plain": [
       "3.0"
      ]
     },
     "execution_count": 21,
     "metadata": {},
     "output_type": "execute_result"
    }
   ],
   "source": [
    "(10000 - df.shape[0])/10000*100"
   ]
  },
  {
   "cell_type": "markdown",
   "id": "7b87b6db",
   "metadata": {},
   "source": [
    "Исключено порядка 3% данных, что приемлемо"
   ]
  },
  {
   "cell_type": "code",
   "execution_count": 22,
   "id": "12ab8695",
   "metadata": {
    "ExecuteTime": {
     "end_time": "2023-07-22T13:11:36.488196Z",
     "start_time": "2023-07-22T13:11:35.851328Z"
    }
   },
   "outputs": [
    {
     "data": {
      "image/png": "[encoded data removed]",
      "text/plain": [
       "<Figure size 432x288 with 1 Axes>"
      ]
     },
     "metadata": {
      "needs_background": "light"
     },
     "output_type": "display_data"
    },
    {
     "data": {
      "image/png": "[encoded data removed]",
      "text/plain": [
       "<Figure size 432x288 with 1 Axes>"
      ]
     },
     "metadata": {
      "needs_background": "light"
     },
     "output_type": "display_data"
    },
    {
     "data": {
      "image/png": "[encoded data removed]",
      "text/plain": [
       "<Figure size 432x288 with 1 Axes>"
      ]
     },
     "metadata": {
      "needs_background": "light"
     },
     "output_type": "display_data"
    },
    {
     "data": {
      "image/png": "[encoded data removed]",
      "text/plain": [
       "<Figure size 432x288 with 1 Axes>"
      ]
     },
     "metadata": {
      "needs_background": "light"
     },
     "output_type": "display_data"
    },
    {
     "data": {
      "image/png": "[encoded data removed]",
      "text/plain": [
       "<Figure size 432x288 with 1 Axes>"
      ]
     },
     "metadata": {
      "needs_background": "light"
     },
     "output_type": "display_data"
    },
    {
     "data": {
      "image/png": "[encoded data removed]",
      "text/plain": [
       "<Figure size 432x288 with 1 Axes>"
      ]
     },
     "metadata": {
      "needs_background": "light"
     },
     "output_type": "display_data"
    }
   ],
   "source": [
    "# Вид данных после фильтрации\n",
    "for col in df.columns.difference(categorials+['Exited']):\n",
    "    df[[col]].plot(kind='hist', bins=20);\n",
    "    plt.title(f'Распределение признака {col}, '+\n",
    "              f'q0.005={df[[col]].quantile(q=0.005)[0]}, '+\n",
    "              f'q0.995={df[[col]].quantile(q=0.995)[0]}');\n",
    "    plt.axvline(df[[col]].quantile(q=0.995)[0])\n",
    "    plt.axvline(df[[col]].quantile(q=0.005)[0])"
   ]
  },
  {
   "cell_type": "markdown",
   "id": "b81b0815",
   "metadata": {},
   "source": [
    "Наблюдается аномалия в признаке Balance: очень много нулей при условии, что в целом данные распределены нормально. Возможно, это сбой выгрузки данных либо счета клиентов, которые уже покинули банк. Проверим вторую гипотезу"
   ]
  },
  {
   "cell_type": "code",
   "execution_count": 23,
   "id": "e415d5c8",
   "metadata": {
    "ExecuteTime": {
     "end_time": "2023-07-22T13:11:36.676682Z",
     "start_time": "2023-07-22T13:11:36.490392Z"
    }
   },
   "outputs": [
    {
     "data": {
      "image/png": "[encoded data removed]",
      "text/plain": [
       "<Figure size 432x288 with 1 Axes>"
      ]
     },
     "metadata": {
      "needs_background": "light"
     },
     "output_type": "display_data"
    },
    {
     "data": {
      "image/png": "[encoded data removed]",
      "text/plain": [
       "<Figure size 432x288 with 1 Axes>"
      ]
     },
     "metadata": {
      "needs_background": "light"
     },
     "output_type": "display_data"
    }
   ],
   "source": [
    "df.groupby('Exited')[['Balance']].plot(kind='hist', bins=20);"
   ]
  },
  {
   "cell_type": "markdown",
   "id": "70539675",
   "metadata": {},
   "source": [
    "Доля нулей велика и у оставшихся клиентов, и у ушедших. Попробуем проверить, с какими колонками коррелирует balance"
   ]
  },
  {
   "cell_type": "code",
   "execution_count": 24,
   "id": "c6d3e9d1",
   "metadata": {
    "ExecuteTime": {
     "end_time": "2023-07-22T13:11:36.685930Z",
     "start_time": "2023-07-22T13:11:36.678094Z"
    }
   },
   "outputs": [
    {
     "data": {
      "text/html": [
       "<div>\n",
       "<style scoped>\n",
       "    .dataframe tbody tr th:only-of-type {\n",
       "        vertical-align: middle;\n",
       "    }\n",
       "\n",
       "    .dataframe tbody tr th {\n",
       "        vertical-align: top;\n",
       "    }\n",
       "\n",
       "    .dataframe thead th {\n",
       "        text-align: right;\n",
       "    }\n",
       "</style>\n",
       "<table border=\"1\" class=\"dataframe\">\n",
       "  <thead>\n",
       "    <tr style=\"text-align: right;\">\n",
       "      <th></th>\n",
       "      <th>CreditScore</th>\n",
       "      <th>Age</th>\n",
       "      <th>Tenure</th>\n",
       "      <th>Balance</th>\n",
       "      <th>NumOfProducts</th>\n",
       "      <th>HasCrCard</th>\n",
       "      <th>IsActiveMember</th>\n",
       "      <th>EstimatedSalary</th>\n",
       "      <th>Exited</th>\n",
       "    </tr>\n",
       "  </thead>\n",
       "  <tbody>\n",
       "    <tr>\n",
       "      <th>CreditScore</th>\n",
       "      <td>1.00</td>\n",
       "      <td>-0.01</td>\n",
       "      <td>-0.00</td>\n",
       "      <td>-0.00</td>\n",
       "      <td>0.01</td>\n",
       "      <td>-0.01</td>\n",
       "      <td>0.03</td>\n",
       "      <td>0.01</td>\n",
       "      <td>-0.02</td>\n",
       "    </tr>\n",
       "    <tr>\n",
       "      <th>Age</th>\n",
       "      <td>-0.01</td>\n",
       "      <td>1.00</td>\n",
       "      <td>0.01</td>\n",
       "      <td>-0.01</td>\n",
       "      <td>-0.01</td>\n",
       "      <td>-0.02</td>\n",
       "      <td>0.06</td>\n",
       "      <td>-0.01</td>\n",
       "      <td>0.32</td>\n",
       "    </tr>\n",
       "    <tr>\n",
       "      <th>Tenure</th>\n",
       "      <td>-0.00</td>\n",
       "      <td>0.01</td>\n",
       "      <td>1.00</td>\n",
       "      <td>0.00</td>\n",
       "      <td>-0.00</td>\n",
       "      <td>0.02</td>\n",
       "      <td>-0.04</td>\n",
       "      <td>0.01</td>\n",
       "      <td>-0.01</td>\n",
       "    </tr>\n",
       "    <tr>\n",
       "      <th>Balance</th>\n",
       "      <td>-0.00</td>\n",
       "      <td>-0.01</td>\n",
       "      <td>0.00</td>\n",
       "      <td>1.00</td>\n",
       "      <td>-0.00</td>\n",
       "      <td>0.01</td>\n",
       "      <td>-0.02</td>\n",
       "      <td>-0.01</td>\n",
       "      <td>0.00</td>\n",
       "    </tr>\n",
       "    <tr>\n",
       "      <th>NumOfProducts</th>\n",
       "      <td>0.01</td>\n",
       "      <td>-0.01</td>\n",
       "      <td>-0.00</td>\n",
       "      <td>-0.00</td>\n",
       "      <td>1.00</td>\n",
       "      <td>0.00</td>\n",
       "      <td>-0.00</td>\n",
       "      <td>0.03</td>\n",
       "      <td>0.02</td>\n",
       "    </tr>\n",
       "    <tr>\n",
       "      <th>HasCrCard</th>\n",
       "      <td>-0.01</td>\n",
       "      <td>-0.02</td>\n",
       "      <td>0.02</td>\n",
       "      <td>0.01</td>\n",
       "      <td>0.00</td>\n",
       "      <td>1.00</td>\n",
       "      <td>-0.02</td>\n",
       "      <td>-0.01</td>\n",
       "      <td>-0.00</td>\n",
       "    </tr>\n",
       "    <tr>\n",
       "      <th>IsActiveMember</th>\n",
       "      <td>0.03</td>\n",
       "      <td>0.06</td>\n",
       "      <td>-0.04</td>\n",
       "      <td>-0.02</td>\n",
       "      <td>-0.00</td>\n",
       "      <td>-0.02</td>\n",
       "      <td>1.00</td>\n",
       "      <td>-0.01</td>\n",
       "      <td>-0.17</td>\n",
       "    </tr>\n",
       "    <tr>\n",
       "      <th>EstimatedSalary</th>\n",
       "      <td>0.01</td>\n",
       "      <td>-0.01</td>\n",
       "      <td>0.01</td>\n",
       "      <td>-0.01</td>\n",
       "      <td>0.03</td>\n",
       "      <td>-0.01</td>\n",
       "      <td>-0.01</td>\n",
       "      <td>1.00</td>\n",
       "      <td>0.00</td>\n",
       "    </tr>\n",
       "    <tr>\n",
       "      <th>Exited</th>\n",
       "      <td>-0.02</td>\n",
       "      <td>0.32</td>\n",
       "      <td>-0.01</td>\n",
       "      <td>0.00</td>\n",
       "      <td>0.02</td>\n",
       "      <td>-0.00</td>\n",
       "      <td>-0.17</td>\n",
       "      <td>0.00</td>\n",
       "      <td>1.00</td>\n",
       "    </tr>\n",
       "  </tbody>\n",
       "</table>\n",
       "</div>"
      ],
      "text/plain": [
       "                 CreditScore   Age  Tenure  Balance  NumOfProducts  HasCrCard  \\\n",
       "CreditScore             1.00 -0.01   -0.00    -0.00           0.01      -0.01   \n",
       "Age                    -0.01  1.00    0.01    -0.01          -0.01      -0.02   \n",
       "Tenure                 -0.00  0.01    1.00     0.00          -0.00       0.02   \n",
       "Balance                -0.00 -0.01    0.00     1.00          -0.00       0.01   \n",
       "NumOfProducts           0.01 -0.01   -0.00    -0.00           1.00       0.00   \n",
       "HasCrCard              -0.01 -0.02    0.02     0.01           0.00       1.00   \n",
       "IsActiveMember          0.03  0.06   -0.04    -0.02          -0.00      -0.02   \n",
       "EstimatedSalary         0.01 -0.01    0.01    -0.01           0.03      -0.01   \n",
       "Exited                 -0.02  0.32   -0.01     0.00           0.02      -0.00   \n",
       "\n",
       "                 IsActiveMember  EstimatedSalary  Exited  \n",
       "CreditScore                0.03             0.01   -0.02  \n",
       "Age                        0.06            -0.01    0.32  \n",
       "Tenure                    -0.04             0.01   -0.01  \n",
       "Balance                   -0.02            -0.01    0.00  \n",
       "NumOfProducts             -0.00             0.03    0.02  \n",
       "HasCrCard                 -0.02            -0.01   -0.00  \n",
       "IsActiveMember             1.00            -0.01   -0.17  \n",
       "EstimatedSalary           -0.01             1.00    0.00  \n",
       "Exited                    -0.17             0.00    1.00  "
      ]
     },
     "execution_count": 24,
     "metadata": {},
     "output_type": "execute_result"
    }
   ],
   "source": [
    "df[df.Balance>0].corr()"
   ]
  },
  {
   "cell_type": "markdown",
   "id": "3f3cd08f",
   "metadata": {},
   "source": [
    "Значимых корреляций нет. Заполним медианным значением по выборке"
   ]
  },
  {
   "cell_type": "code",
   "execution_count": 25,
   "id": "8f551dc5",
   "metadata": {
    "ExecuteTime": {
     "end_time": "2023-07-22T13:11:36.690215Z",
     "start_time": "2023-07-22T13:11:36.686966Z"
    }
   },
   "outputs": [],
   "source": [
    "df.loc[df.Balance==0, 'Balance'] = df[df.Balance>0]['Balance'].median()"
   ]
  },
  {
   "cell_type": "code",
   "execution_count": 26,
   "id": "925f24d6",
   "metadata": {
    "ExecuteTime": {
     "end_time": "2023-07-22T13:11:36.927267Z",
     "start_time": "2023-07-22T13:11:36.691073Z"
    },
    "scrolled": true
   },
   "outputs": [
    {
     "data": {
      "image/png": "[encoded data removed]",
      "text/plain": [
       "<Figure size 432x288 with 1 Axes>"
      ]
     },
     "metadata": {
      "needs_background": "light"
     },
     "output_type": "display_data"
    },
    {
     "data": {
      "image/png": "[encoded data removed]",
      "text/plain": [
       "<Figure size 432x288 with 1 Axes>"
      ]
     },
     "metadata": {
      "needs_background": "light"
     },
     "output_type": "display_data"
    }
   ],
   "source": [
    "df.groupby('Exited')[['Balance']].plot(kind='hist', bins=20);"
   ]
  },
  {
   "cell_type": "code",
   "execution_count": 27,
   "id": "772b4519",
   "metadata": {
    "ExecuteTime": {
     "end_time": "2023-07-22T13:11:36.935817Z",
     "start_time": "2023-07-22T13:11:36.928394Z"
    }
   },
   "outputs": [
    {
     "data": {
      "text/html": [
       "<div>\n",
       "<style scoped>\n",
       "    .dataframe tbody tr th:only-of-type {\n",
       "        vertical-align: middle;\n",
       "    }\n",
       "\n",
       "    .dataframe tbody tr th {\n",
       "        vertical-align: top;\n",
       "    }\n",
       "\n",
       "    .dataframe thead th {\n",
       "        text-align: right;\n",
       "    }\n",
       "</style>\n",
       "<table border=\"1\" class=\"dataframe\">\n",
       "  <thead>\n",
       "    <tr style=\"text-align: right;\">\n",
       "      <th></th>\n",
       "      <th>CreditScore</th>\n",
       "      <th>Age</th>\n",
       "      <th>Tenure</th>\n",
       "      <th>Balance</th>\n",
       "      <th>NumOfProducts</th>\n",
       "      <th>HasCrCard</th>\n",
       "      <th>IsActiveMember</th>\n",
       "      <th>EstimatedSalary</th>\n",
       "      <th>Exited</th>\n",
       "    </tr>\n",
       "  </thead>\n",
       "  <tbody>\n",
       "    <tr>\n",
       "      <th>CreditScore</th>\n",
       "      <td>1.00</td>\n",
       "      <td>-0.00</td>\n",
       "      <td>0.00</td>\n",
       "      <td>-0.00</td>\n",
       "      <td>0.01</td>\n",
       "      <td>-0.00</td>\n",
       "      <td>0.02</td>\n",
       "      <td>-0.00</td>\n",
       "      <td>-0.02</td>\n",
       "    </tr>\n",
       "    <tr>\n",
       "      <th>Age</th>\n",
       "      <td>-0.00</td>\n",
       "      <td>1.00</td>\n",
       "      <td>-0.01</td>\n",
       "      <td>-0.01</td>\n",
       "      <td>-0.05</td>\n",
       "      <td>-0.01</td>\n",
       "      <td>0.08</td>\n",
       "      <td>-0.01</td>\n",
       "      <td>0.30</td>\n",
       "    </tr>\n",
       "    <tr>\n",
       "      <th>Tenure</th>\n",
       "      <td>0.00</td>\n",
       "      <td>-0.01</td>\n",
       "      <td>1.00</td>\n",
       "      <td>0.00</td>\n",
       "      <td>0.01</td>\n",
       "      <td>0.02</td>\n",
       "      <td>-0.03</td>\n",
       "      <td>0.01</td>\n",
       "      <td>-0.01</td>\n",
       "    </tr>\n",
       "    <tr>\n",
       "      <th>Balance</th>\n",
       "      <td>-0.00</td>\n",
       "      <td>-0.01</td>\n",
       "      <td>0.00</td>\n",
       "      <td>1.00</td>\n",
       "      <td>-0.00</td>\n",
       "      <td>0.01</td>\n",
       "      <td>-0.02</td>\n",
       "      <td>-0.00</td>\n",
       "      <td>0.00</td>\n",
       "    </tr>\n",
       "    <tr>\n",
       "      <th>NumOfProducts</th>\n",
       "      <td>0.01</td>\n",
       "      <td>-0.05</td>\n",
       "      <td>0.01</td>\n",
       "      <td>-0.00</td>\n",
       "      <td>1.00</td>\n",
       "      <td>0.00</td>\n",
       "      <td>0.01</td>\n",
       "      <td>0.01</td>\n",
       "      <td>-0.10</td>\n",
       "    </tr>\n",
       "    <tr>\n",
       "      <th>HasCrCard</th>\n",
       "      <td>-0.00</td>\n",
       "      <td>-0.01</td>\n",
       "      <td>0.02</td>\n",
       "      <td>0.01</td>\n",
       "      <td>0.00</td>\n",
       "      <td>1.00</td>\n",
       "      <td>-0.01</td>\n",
       "      <td>-0.01</td>\n",
       "      <td>-0.01</td>\n",
       "    </tr>\n",
       "    <tr>\n",
       "      <th>IsActiveMember</th>\n",
       "      <td>0.02</td>\n",
       "      <td>0.08</td>\n",
       "      <td>-0.03</td>\n",
       "      <td>-0.02</td>\n",
       "      <td>0.01</td>\n",
       "      <td>-0.01</td>\n",
       "      <td>1.00</td>\n",
       "      <td>-0.01</td>\n",
       "      <td>-0.16</td>\n",
       "    </tr>\n",
       "    <tr>\n",
       "      <th>EstimatedSalary</th>\n",
       "      <td>-0.00</td>\n",
       "      <td>-0.01</td>\n",
       "      <td>0.01</td>\n",
       "      <td>-0.00</td>\n",
       "      <td>0.01</td>\n",
       "      <td>-0.01</td>\n",
       "      <td>-0.01</td>\n",
       "      <td>1.00</td>\n",
       "      <td>0.01</td>\n",
       "    </tr>\n",
       "    <tr>\n",
       "      <th>Exited</th>\n",
       "      <td>-0.02</td>\n",
       "      <td>0.30</td>\n",
       "      <td>-0.01</td>\n",
       "      <td>0.00</td>\n",
       "      <td>-0.10</td>\n",
       "      <td>-0.01</td>\n",
       "      <td>-0.16</td>\n",
       "      <td>0.01</td>\n",
       "      <td>1.00</td>\n",
       "    </tr>\n",
       "  </tbody>\n",
       "</table>\n",
       "</div>"
      ],
      "text/plain": [
       "                 CreditScore   Age  Tenure  Balance  NumOfProducts  HasCrCard  \\\n",
       "CreditScore             1.00 -0.00    0.00    -0.00           0.01      -0.00   \n",
       "Age                    -0.00  1.00   -0.01    -0.01          -0.05      -0.01   \n",
       "Tenure                  0.00 -0.01    1.00     0.00           0.01       0.02   \n",
       "Balance                -0.00 -0.01    0.00     1.00          -0.00       0.01   \n",
       "NumOfProducts           0.01 -0.05    0.01    -0.00           1.00       0.00   \n",
       "HasCrCard              -0.00 -0.01    0.02     0.01           0.00       1.00   \n",
       "IsActiveMember          0.02  0.08   -0.03    -0.02           0.01      -0.01   \n",
       "EstimatedSalary        -0.00 -0.01    0.01    -0.00           0.01      -0.01   \n",
       "Exited                 -0.02  0.30   -0.01     0.00          -0.10      -0.01   \n",
       "\n",
       "                 IsActiveMember  EstimatedSalary  Exited  \n",
       "CreditScore                0.02            -0.00   -0.02  \n",
       "Age                        0.08            -0.01    0.30  \n",
       "Tenure                    -0.03             0.01   -0.01  \n",
       "Balance                   -0.02            -0.00    0.00  \n",
       "NumOfProducts              0.01             0.01   -0.10  \n",
       "HasCrCard                 -0.01            -0.01   -0.01  \n",
       "IsActiveMember             1.00            -0.01   -0.16  \n",
       "EstimatedSalary           -0.01             1.00    0.01  \n",
       "Exited                    -0.16             0.01    1.00  "
      ]
     },
     "execution_count": 27,
     "metadata": {},
     "output_type": "execute_result"
    }
   ],
   "source": [
    "df.corr()"
   ]
  },
  {
   "cell_type": "markdown",
   "id": "dbcdcb9a",
   "metadata": {},
   "source": [
    "Новых корреляций привнесено не было, распределение в целевых классах не изменилось, будем считать замену корректной"
   ]
  },
  {
   "cell_type": "markdown",
   "id": "f3416319",
   "metadata": {},
   "source": [
    "### Обработка категориальных признаков"
   ]
  },
  {
   "cell_type": "markdown",
   "id": "89502cc0",
   "metadata": {},
   "source": [
    "Признаки пол и страна проживания - категориальные признаки. Пол можно кодировать простым сравнением с Female, а страну преобразовать в дамми-переменные с отбрасыванием первой избыточной переменной"
   ]
  },
  {
   "cell_type": "code",
   "execution_count": 28,
   "id": "5c402bc7",
   "metadata": {
    "ExecuteTime": {
     "end_time": "2023-07-22T13:11:36.940050Z",
     "start_time": "2023-07-22T13:11:36.937186Z"
    }
   },
   "outputs": [],
   "source": [
    "df['Gender'] = (df.Gender == 'Female').astype(int)"
   ]
  },
  {
   "cell_type": "code",
   "execution_count": 29,
   "id": "c2523196",
   "metadata": {
    "ExecuteTime": {
     "end_time": "2023-07-22T13:11:36.950077Z",
     "start_time": "2023-07-22T13:11:36.940967Z"
    }
   },
   "outputs": [],
   "source": [
    "df = pd.get_dummies(df, drop_first=True)"
   ]
  },
  {
   "cell_type": "markdown",
   "id": "d4177108",
   "metadata": {},
   "source": [
    "### Feature Engineering"
   ]
  },
  {
   "cell_type": "markdown",
   "id": "953da03f",
   "metadata": {},
   "source": [
    "Признаки Balance, EstimatedSalary, CreditScore и Age выглядят чересчур многообразными для задачи классификации. Разобьем их на категории по квартилям"
   ]
  },
  {
   "cell_type": "code",
   "execution_count": 30,
   "id": "a04ecf76",
   "metadata": {
    "ExecuteTime": {
     "end_time": "2023-07-22T13:11:36.961361Z",
     "start_time": "2023-07-22T13:11:36.951010Z"
    }
   },
   "outputs": [],
   "source": [
    "df['balance_cat'] = pd.qcut(df['Balance'],4, duplicates='drop', labels=range(4))\n",
    "df['salary_cat'] = pd.qcut(df['EstimatedSalary'],4, duplicates='drop', labels=range(4))\n",
    "df['score_cat'] = pd.qcut(df['CreditScore'],4, duplicates='drop', labels=range(4))\n",
    "df['age_cat'] = pd.qcut(df['Age'],4, duplicates='drop', labels=range(4))\n",
    "age_cat = df['age_cat'] # сохраним на будущее"
   ]
  },
  {
   "cell_type": "markdown",
   "id": "cea8d90a",
   "metadata": {},
   "source": [
    "### Обработка количественных признаков"
   ]
  },
  {
   "cell_type": "code",
   "execution_count": 31,
   "id": "71e8b990",
   "metadata": {
    "ExecuteTime": {
     "end_time": "2023-07-22T13:11:36.964145Z",
     "start_time": "2023-07-22T13:11:36.962233Z"
    }
   },
   "outputs": [],
   "source": [
    "# количественные признаки\n",
    "quants = df.columns.difference(categorials+['Exited'])"
   ]
  },
  {
   "cell_type": "markdown",
   "id": "bc3c6281",
   "metadata": {},
   "source": [
    "Будем использовать MinMaxScaler, чтобы в итоге все признаки попали в диапазон [0..1]"
   ]
  },
  {
   "cell_type": "markdown",
   "id": "d5450e35",
   "metadata": {},
   "source": [
    "### Разбиение на трейн и тест"
   ]
  },
  {
   "cell_type": "code",
   "execution_count": 32,
   "id": "f1f1d462",
   "metadata": {
    "ExecuteTime": {
     "end_time": "2023-07-22T13:11:36.980798Z",
     "start_time": "2023-07-22T13:11:36.964990Z"
    }
   },
   "outputs": [],
   "source": [
    "# оставим 15% данных для итогового тестирования\n",
    "# поскольку задача предполагает сравнение разных методов борьбы с дисбалансом, \n",
    "#    отрежем еще 15% для валидации\n",
    "# оптимизацию будем делать с помощью кросс-валидации\n",
    "# При разбиении будем использовать \n",
    "\n",
    "\n",
    "target = df['Exited']\n",
    "features = df.drop(['Exited'] , axis=1)\n",
    "features_train, features_test, target_train, target_test, cat_train, cat_test = train_test_split(\n",
    "    features, target, age_cat, test_size=0.15, random_state=42, stratify=age_cat)"
   ]
  },
  {
   "cell_type": "markdown",
   "id": "407b97a7",
   "metadata": {},
   "source": [
    "Для того, чтобы в дальнейшем использовать автоматизированный перебор гиперпараметров, выделим валидационную выборку с помощью PrediefinedSplit"
   ]
  },
  {
   "cell_type": "code",
   "execution_count": 33,
   "id": "823da883",
   "metadata": {
    "ExecuteTime": {
     "end_time": "2023-07-22T13:11:36.985750Z",
     "start_time": "2023-07-22T13:11:36.981649Z"
    }
   },
   "outputs": [],
   "source": [
    "_, _, _, target_valid = train_test_split(\n",
    "    features_train, target_train, test_size=len(target_test), random_state=42, \n",
    "    stratify=cat_train)"
   ]
  },
  {
   "cell_type": "code",
   "execution_count": 34,
   "id": "dce01660",
   "metadata": {
    "ExecuteTime": {
     "end_time": "2023-07-22T13:11:36.993367Z",
     "start_time": "2023-07-22T13:11:36.986616Z"
    }
   },
   "outputs": [],
   "source": [
    "valid_fold = target_train.index.isin(target_valid.index)"
   ]
  },
  {
   "cell_type": "code",
   "execution_count": 35,
   "id": "4fd5cb1f",
   "metadata": {
    "ExecuteTime": {
     "end_time": "2023-07-22T13:11:37.000467Z",
     "start_time": "2023-07-22T13:11:36.994221Z"
    }
   },
   "outputs": [],
   "source": [
    "marked_valid_fold = valid_fold.copy().astype(int)\n",
    "marked_valid_fold[marked_valid_fold==0] = -1\n",
    "ps = PredefinedSplit(test_fold=marked_valid_fold)"
   ]
  },
  {
   "cell_type": "markdown",
   "id": "849f77a0",
   "metadata": {},
   "source": [
    "### Масштабирование"
   ]
  },
  {
   "cell_type": "markdown",
   "id": "b21fc30e",
   "metadata": {},
   "source": [
    "Будем использовать MinMaxScaler, чтобы в итоге все признаки попали в диапазон [0..1]"
   ]
  },
  {
   "cell_type": "code",
   "execution_count": 36,
   "id": "4f4173d9",
   "metadata": {
    "ExecuteTime": {
     "end_time": "2023-07-22T13:11:37.007369Z",
     "start_time": "2023-07-22T13:11:37.001248Z"
    }
   },
   "outputs": [],
   "source": [
    "scl = MinMaxScaler()"
   ]
  },
  {
   "cell_type": "code",
   "execution_count": 37,
   "id": "2ef37fff",
   "metadata": {
    "ExecuteTime": {
     "end_time": "2023-07-22T13:11:37.031001Z",
     "start_time": "2023-07-22T13:11:37.008153Z"
    }
   },
   "outputs": [],
   "source": [
    "scl.fit(features_train[quants][~valid_fold])\n",
    "features_train.loc[:,quants] = scl.transform(features_train[quants])\n",
    "features_test.loc[:,quants] = scl.transform(features_test[quants])"
   ]
  },
  {
   "cell_type": "markdown",
   "id": "4ca9bd23",
   "metadata": {},
   "source": [
    "**Итог**\n",
    "\n",
    "    - Датасет содержит 10000 образцов    \n",
    "    - Пропуски есть только в колонке Tenure, причем их порядка 10%, то есть просто отбрасывать эту часть данных некорректно. Можно допустить, что это люди, которые стали клиентами банка недавно, и заполнить пропуски нулями\n",
    "    - удалены признаки Surname и CustomerId как неинформативные\n",
    "    - Проведена фильтрация редких значений\n",
    "        - Частоты категориальных признаков составляют не менее 25%, то есть редких значений нет\n",
    "        - для CreditScore малые значения ниже 432\n",
    "        - для Age значения меньше 20 лет и больше 75 лет\n",
    "        - для баланса значения больше 193126\n",
    "        - для NumOfProducts больше 3\n",
    "    - Наблюдается аномалия в признаке Balance: очень много нулей при условии, что в целом данные распределены нормально. Нули одинаково представлены для обоих целевых классов, значение признака не коррелирует с другими признаками; нули заменены медианным значением признака.\n",
    "    - Пол кодирован простым сравнением с Female\n",
    "    - Страна преобразована в дамми-переменные с отбрасыванием первой избыточной переменной\n",
    "    - Признаки Balance, EstimatedSalary, CreditScore и Age выглядели чересчур многообразными для задачи классификации. Для преодоления их разбили на категории по квартилям\n",
    "    - Количественные признаки нормированы MinMaxScaler, чтобы в итоге все признаки попали в диапазон [0..1]    "
   ]
  },
  {
   "cell_type": "markdown",
   "id": "53615182",
   "metadata": {},
   "source": [
    "## Исследование задачи"
   ]
  },
  {
   "cell_type": "markdown",
   "id": "d3a9849a",
   "metadata": {},
   "source": [
    "### Анализ баланса классов"
   ]
  },
  {
   "cell_type": "code",
   "execution_count": 38,
   "id": "36e16491",
   "metadata": {
    "ExecuteTime": {
     "end_time": "2023-07-22T13:11:37.034630Z",
     "start_time": "2023-07-22T13:11:37.031896Z"
    },
    "scrolled": true
   },
   "outputs": [
    {
     "data": {
      "text/plain": [
       "0   0.80\n",
       "1   0.20\n",
       "Name: Exited, dtype: float64"
      ]
     },
     "execution_count": 38,
     "metadata": {},
     "output_type": "execute_result"
    }
   ],
   "source": [
    "target_train.value_counts(normalize=True)"
   ]
  },
  {
   "cell_type": "markdown",
   "id": "ef433e5c",
   "metadata": {},
   "source": [
    "Наблюдается выраженный дисбаланс классов"
   ]
  },
  {
   "cell_type": "markdown",
   "id": "7c5deb63",
   "metadata": {},
   "source": [
    "### Модели без устранения дизбаланса"
   ]
  },
  {
   "cell_type": "code",
   "execution_count": 39,
   "id": "2161dce6",
   "metadata": {
    "ExecuteTime": {
     "end_time": "2023-07-22T13:11:37.914441Z",
     "start_time": "2023-07-22T13:11:37.035422Z"
    }
   },
   "outputs": [
    {
     "name": "stdout",
     "output_type": "stream",
     "text": [
      "Model ExtraTreesClassifier AUC=0.845 f1=0.539 recall=0.429\n",
      "\n",
      "Model RandomForestClassifier AUC=0.845 f1=0.559 recall=0.439\n",
      "\n",
      "Model LogisticRegression AUC=0.782 f1=0.394 recall=0.272\n",
      "\n"
     ]
    }
   ],
   "source": [
    "for model in \\\n",
    "    ['ExtraTreesClassifier', 'RandomForestClassifier', 'LogisticRegression']:\n",
    "    if model == 'SVC':        \n",
    "        clf = eval(model)(random_state=42, probability=True)\n",
    "    else:\n",
    "        clf = eval(model)(random_state=42)\n",
    "    clf.fit(features_train[~valid_fold], target_train[~valid_fold])\n",
    "    preds_val = clf.predict(features_train[valid_fold])\n",
    "    proba_val = clf.predict_proba(features_train[valid_fold])[:,1]\n",
    "\n",
    "    print(f'Model {model} AUC={roc_auc_score(target_train[valid_fold], proba_val):.3f}'+\n",
    "         f' f1={f1_score(target_train[valid_fold], preds_val):.3f}'+\n",
    "         f' recall={recall_score(target_train[valid_fold], preds_val):.3f}')\n",
    "    print()"
   ]
  },
  {
   "cell_type": "markdown",
   "id": "50cec01a",
   "metadata": {},
   "source": [
    "Видно, что для логистической регрессии Recall на редком целевом классе низкий, то есть нужно компенсировать дисбаланс классов\n",
    "\n",
    "Наилучшие результаты показывает RandomForestClassifier, его и будем оптимизировать"
   ]
  },
  {
   "cell_type": "markdown",
   "id": "9d0cded1",
   "metadata": {},
   "source": [
    "## Борьба с дисбалансом"
   ]
  },
  {
   "cell_type": "markdown",
   "id": "0f4f5a6d",
   "metadata": {},
   "source": [
    "### Отбрасывание избыточных образцов"
   ]
  },
  {
   "cell_type": "code",
   "execution_count": 40,
   "id": "a272d857",
   "metadata": {
    "ExecuteTime": {
     "end_time": "2023-07-22T13:11:37.926548Z",
     "start_time": "2023-07-22T13:11:37.915631Z"
    }
   },
   "outputs": [
    {
     "data": {
      "text/plain": [
       "1   0.50\n",
       "0   0.50\n",
       "Name: Exited, dtype: float64"
      ]
     },
     "execution_count": 40,
     "metadata": {},
     "output_type": "execute_result"
    }
   ],
   "source": [
    "# пробуем отбросить образцы отрицательного класса\n",
    "\n",
    "ftr_pos = features_train[~valid_fold][target_train[~valid_fold]==1]\n",
    "tgt_pos = target_train[~valid_fold][target_train[~valid_fold]==1]\n",
    "tgt_neg = target_train[~valid_fold][target_train[~valid_fold]==0].sample(len(tgt_pos))\n",
    "ftr_neg = features_train[~valid_fold][target_train[~valid_fold]==0].sample(len(tgt_pos))\n",
    "\n",
    "features_train_trunc,target_train_trunc = shuffle(pd.concat([ftr_pos]+[ftr_neg]), \n",
    "                               pd.concat([tgt_pos]+[tgt_neg]), \n",
    "                                                 random_state=42)\n",
    "\n",
    "target_train_trunc.value_counts(normalize=True)"
   ]
  },
  {
   "cell_type": "code",
   "execution_count": 41,
   "id": "bfe4552b",
   "metadata": {
    "ExecuteTime": {
     "end_time": "2023-07-22T13:11:38.192157Z",
     "start_time": "2023-07-22T13:11:37.927690Z"
    }
   },
   "outputs": [
    {
     "name": "stdout",
     "output_type": "stream",
     "text": [
      "Model RandomForestClassifier AUC=0.846 f1=0.584 recall=0.742\n"
     ]
    }
   ],
   "source": [
    "clf_trunc = RandomForestClassifier(random_state=42)\n",
    "clf_trunc.fit(features_train_trunc, target_train_trunc)\n",
    "preds_valid = clf_trunc.predict(features_train[valid_fold])\n",
    "prob_val = clf_trunc.predict_proba(features_train[valid_fold])[:,1]\n",
    "\n",
    "print(f'Model RandomForestClassifier AUC={roc_auc_score(target_train[valid_fold], prob_val):.3f}'+\n",
    "     f' f1={f1_score(target_train[valid_fold], preds_valid):.3f}'+\n",
    "     f' recall={recall_score(target_train[valid_fold], preds_valid):.3f}')"
   ]
  },
  {
   "cell_type": "markdown",
   "id": "61b97e04",
   "metadata": {},
   "source": [
    "### Дублирование недостающих образцов"
   ]
  },
  {
   "cell_type": "code",
   "execution_count": 42,
   "id": "3ebd9808",
   "metadata": {
    "ExecuteTime": {
     "end_time": "2023-07-22T13:11:38.201909Z",
     "start_time": "2023-07-22T13:11:38.193184Z"
    }
   },
   "outputs": [
    {
     "data": {
      "text/plain": [
       "0   0.50\n",
       "1   0.50\n",
       "Name: Exited, dtype: float64"
      ]
     },
     "execution_count": 42,
     "metadata": {},
     "output_type": "execute_result"
    }
   ],
   "source": [
    "# пробуем дублировать образцы положительного класса\n",
    "\n",
    "features_train_dup,target_train_dup = shuffle(\n",
    "    pd.concat([features_train[~valid_fold][target_train[~valid_fold]==1]]*4\n",
    "              +[features_train[~valid_fold][target_train[~valid_fold]==0]]), \n",
    "    pd.concat([target_train[~valid_fold][target_train[~valid_fold]==1]]*4\n",
    "              +[target_train[~valid_fold][target_train[~valid_fold]==0]]), \n",
    "    random_state=42)\n",
    "\n",
    "target_train_dup.value_counts(normalize=True)"
   ]
  },
  {
   "cell_type": "code",
   "execution_count": 43,
   "id": "bb9cd528",
   "metadata": {
    "ExecuteTime": {
     "end_time": "2023-07-22T13:11:38.447509Z",
     "start_time": "2023-07-22T13:11:38.202766Z"
    }
   },
   "outputs": [
    {
     "name": "stdout",
     "output_type": "stream",
     "text": [
      "Model RandomForestClassifier AUC=0.846 f1=0.584 recall=0.742\n"
     ]
    }
   ],
   "source": [
    "clf_dup = RandomForestClassifier(random_state=42)\n",
    "clf_dup.fit(features_train_trunc, target_train_trunc)\n",
    "preds_valid = clf_dup.predict(features_train[valid_fold])\n",
    "prob_val = clf_dup.predict_proba(features_train[valid_fold])[:,1]\n",
    "\n",
    "print(f'Model RandomForestClassifier AUC={roc_auc_score(target_train[valid_fold], prob_val):.3f}'+\n",
    "     f' f1={f1_score(target_train[valid_fold], preds_valid):.3f}'+\n",
    "     f' recall={recall_score(target_train[valid_fold], preds_valid):.3f}')"
   ]
  },
  {
   "cell_type": "markdown",
   "id": "33d25f9b",
   "metadata": {},
   "source": [
    "### Учет дизбаланса на уровне модели"
   ]
  },
  {
   "cell_type": "markdown",
   "id": "d4d1ede9",
   "metadata": {},
   "source": [
    "Метрика получается хорошая, но проведем дополнительно оптимизацию модели с учетом дисбаланса классов"
   ]
  },
  {
   "cell_type": "code",
   "execution_count": 44,
   "id": "a6fd11a2",
   "metadata": {
    "ExecuteTime": {
     "end_time": "2023-07-22T13:11:38.908169Z",
     "start_time": "2023-07-22T13:11:38.448778Z"
    }
   },
   "outputs": [
    {
     "name": "stdout",
     "output_type": "stream",
     "text": [
      "Model RandomForestClassifier AUC=0.848 f1=0.531 recall=0.401\n"
     ]
    }
   ],
   "source": [
    "# пробуем учесть баланс классов на уровне модели\n",
    "clf = RandomForestClassifier(random_state=42, class_weight=\"balanced\")\n",
    "clf.fit(features_train[~valid_fold], target_train[~valid_fold])\n",
    "preds_valid = clf.predict(features_train[valid_fold])\n",
    "prob_val = clf.predict_proba(features_train[valid_fold])[:,1]\n",
    "\n",
    "print(f'Model RandomForestClassifier AUC={roc_auc_score(target_train[valid_fold], prob_val):.3f}'+\n",
    "     f' f1={f1_score(target_train[valid_fold], preds_valid):.3f}'+\n",
    "     f' recall={recall_score(target_train[valid_fold], preds_valid):.3f}')"
   ]
  },
  {
   "cell_type": "markdown",
   "id": "4289f6e7",
   "metadata": {},
   "source": [
    "### Оптимизация гиперпараметров модели"
   ]
  },
  {
   "cell_type": "code",
   "execution_count": 45,
   "id": "ebb75ee1",
   "metadata": {
    "ExecuteTime": {
     "end_time": "2023-07-22T13:11:38.910930Z",
     "start_time": "2023-07-22T13:11:38.909155Z"
    }
   },
   "outputs": [],
   "source": [
    "params = dict(\n",
    "    n_estimators=range(10,500,10),\n",
    "    max_depth=range(1,50,1),\n",
    "    max_features=range(1,features_train.shape[1],1)\n",
    ")"
   ]
  },
  {
   "cell_type": "code",
   "execution_count": 46,
   "id": "4b7a1dcb",
   "metadata": {
    "ExecuteTime": {
     "end_time": "2023-07-22T13:14:27.923199Z",
     "start_time": "2023-07-22T13:11:38.911908Z"
    }
   },
   "outputs": [
    {
     "name": "stdout",
     "output_type": "stream",
     "text": [
      "Fitting 1 folds for each of 100 candidates, totalling 100 fits\n"
     ]
    },
    {
     "data": {
      "text/plain": [
       "RandomizedSearchCV(cv=PredefinedSplit(test_fold=array([-1, -1, ..., -1,  1])),\n",
       "                   estimator=RandomForestClassifier(class_weight='balanced',\n",
       "                                                    random_state=42),\n",
       "                   n_iter=100,\n",
       "                   param_distributions={'max_depth': range(1, 50),\n",
       "                                        'max_features': range(1, 15),\n",
       "                                        'n_estimators': range(10, 500, 10)},\n",
       "                   random_state=42, scoring=make_scorer(f1_score), verbose=1)"
      ]
     },
     "execution_count": 46,
     "metadata": {},
     "output_type": "execute_result"
    }
   ],
   "source": [
    "clf = RandomForestClassifier(random_state=42,class_weight=\"balanced\")\n",
    "opt = RandomizedSearchCV(clf, params, n_iter=100, verbose=1,\n",
    "                         scoring=make_scorer(f1_score), cv=ps, random_state=42)\n",
    "opt.fit(features_train, \n",
    "        target_train)"
   ]
  },
  {
   "cell_type": "code",
   "execution_count": 47,
   "id": "6c7cfc7a",
   "metadata": {
    "ExecuteTime": {
     "end_time": "2023-07-22T13:14:27.926669Z",
     "start_time": "2023-07-22T13:14:27.924439Z"
    }
   },
   "outputs": [
    {
     "data": {
      "text/plain": [
       "{'n_estimators': 410, 'max_features': 4, 'max_depth': 9}"
      ]
     },
     "execution_count": 47,
     "metadata": {},
     "output_type": "execute_result"
    }
   ],
   "source": [
    "opt.best_params_"
   ]
  },
  {
   "cell_type": "code",
   "execution_count": 48,
   "id": "4797b2d0",
   "metadata": {
    "ExecuteTime": {
     "end_time": "2023-07-22T13:14:27.934695Z",
     "start_time": "2023-07-22T13:14:27.927494Z"
    }
   },
   "outputs": [
    {
     "data": {
      "text/plain": [
       "0.6188034188034188"
      ]
     },
     "execution_count": 48,
     "metadata": {},
     "output_type": "execute_result"
    }
   ],
   "source": [
    "opt.best_score_"
   ]
  },
  {
   "cell_type": "markdown",
   "id": "53748e59",
   "metadata": {},
   "source": [
    "### ROC-AUC curve"
   ]
  },
  {
   "cell_type": "markdown",
   "id": "71292ab3",
   "metadata": {},
   "source": [
    "Попробуем оптимизировать threshold для отнесения объектов к позитивному классу"
   ]
  },
  {
   "cell_type": "code",
   "execution_count": 49,
   "id": "c9496692",
   "metadata": {
    "ExecuteTime": {
     "end_time": "2023-07-22T13:14:28.009523Z",
     "start_time": "2023-07-22T13:14:27.935665Z"
    }
   },
   "outputs": [],
   "source": [
    "# расчеты для кривой ROC\n",
    "probabilities_valid= opt.predict_proba(features_train[valid_fold])[:,1]\n",
    "fpr, tpr, thresholds = roc_curve(target_train[valid_fold], probabilities_valid)"
   ]
  },
  {
   "cell_type": "code",
   "execution_count": 50,
   "id": "9ba59986",
   "metadata": {
    "ExecuteTime": {
     "end_time": "2023-07-22T13:14:28.070229Z",
     "start_time": "2023-07-22T13:14:28.010408Z"
    }
   },
   "outputs": [
    {
     "data": {
      "image/png": "[encoded data removed]",
      "text/plain": [
       "<Figure size 432x288 with 1 Axes>"
      ]
     },
     "metadata": {
      "needs_background": "light"
     },
     "output_type": "display_data"
    }
   ],
   "source": [
    "plt.figure()\n",
    "plt.plot(fpr, tpr)\n",
    "plt.xlim([0.0, 1.0])\n",
    "plt.ylim([0.0, 1.0])\n",
    "plt.xlabel('False Positive Rate')\n",
    "plt.ylabel('True Positive Rate')\n",
    "plt.title('ROC-кривая')\n",
    "plt.show() "
   ]
  },
  {
   "cell_type": "markdown",
   "id": "72eb6a7a",
   "metadata": {},
   "source": [
    "Видно, что в районе TPR 0.8 происходит резкое падение скорости ее роста и ускорение прироста FPR. Поищем оптимальный threshold в этом районе"
   ]
  },
  {
   "cell_type": "code",
   "execution_count": 51,
   "id": "c77b8dd0",
   "metadata": {
    "ExecuteTime": {
     "end_time": "2023-07-22T13:14:28.201112Z",
     "start_time": "2023-07-22T13:14:28.071255Z"
    }
   },
   "outputs": [
    {
     "data": {
      "image/png": "[encoded data removed]",
      "text/plain": [
       "<Figure size 720x576 with 2 Axes>"
      ]
     },
     "metadata": {
      "needs_background": "light"
     },
     "output_type": "display_data"
    }
   ],
   "source": [
    "fig, ax1 = plt.subplots(figsize=(10,8))\n",
    "ax2 = ax1.twinx()\n",
    "ax1.plot(thresholds, 1-tpr, label='Inverse True Positive Rate')\n",
    "ax1.plot(thresholds, fpr, label='False Positive Rate')\n",
    "ax2.plot(thresholds, (np.gradient(tpr)<np.gradient(fpr)), \n",
    "         label='Изменение FPR > TPR', color='green')\n",
    "ax2.fill_between(thresholds, (np.gradient(tpr)<np.gradient(fpr)), alpha=0.1, color='green')\n",
    "plt.xlim([0.0, 1.0])\n",
    "ax1.set_ylim([0.0, 1.0])\n",
    "ax2.set_ylim([0.0, 1.0])\n",
    "plt.xticks(np.arange(0,1,0.1))\n",
    "plt.xlabel('Threshold')\n",
    "ax1.set_ylabel('Rate value')\n",
    "ax2.set_ylabel(\"FPR>TPR\", color='green')\n",
    "plt.title('ROC-кривая')\n",
    "plt.grid()\n",
    "ax1.legend(loc='upper right')\n",
    "plt.show() "
   ]
  },
  {
   "cell_type": "markdown",
   "id": "0c110051",
   "metadata": {},
   "source": [
    "Получается, что после threshold ~0.45 скорость снижения FPR меньше скорости снижения TPR, можно принять это как рабочий threshold"
   ]
  },
  {
   "cell_type": "markdown",
   "id": "265be2c5",
   "metadata": {},
   "source": [
    "## Тестирование модели"
   ]
  },
  {
   "cell_type": "code",
   "execution_count": 52,
   "id": "92b7bff0",
   "metadata": {
    "ExecuteTime": {
     "end_time": "2023-07-22T13:14:28.343420Z",
     "start_time": "2023-07-22T13:14:28.202207Z"
    }
   },
   "outputs": [
    {
     "name": "stdout",
     "output_type": "stream",
     "text": [
      "Model RandomForestClassifier with model balance AUC=0.846 f1=0.598\n",
      "              precision    recall  f1-score   support\n",
      "\n",
      "           0       0.92      0.85      0.88      1166\n",
      "           1       0.53      0.68      0.60       289\n",
      "\n",
      "    accuracy                           0.82      1455\n",
      "   macro avg       0.72      0.77      0.74      1455\n",
      "weighted avg       0.84      0.82      0.83      1455\n",
      "\n"
     ]
    }
   ],
   "source": [
    "preds_test = opt.predict_proba(features_test)[:,1]>=0.45\n",
    "proba_test = opt.predict_proba(features_test)[:,1]\n",
    "print(f'Model RandomForestClassifier with model balance AUC={roc_auc_score(target_test, proba_test):.3f}'+\n",
    "         f' f1={f1_score(target_test, preds_test):.3f}')\n",
    "print(classification_report(target_test, preds_test))"
   ]
  },
  {
   "cell_type": "code",
   "execution_count": 53,
   "id": "331d93a4",
   "metadata": {
    "ExecuteTime": {
     "end_time": "2023-07-22T13:14:28.459716Z",
     "start_time": "2023-07-22T13:14:28.344375Z"
    }
   },
   "outputs": [
    {
     "data": {
      "image/png": "[encoded data removed]",
      "text/plain": [
       "<Figure size 432x288 with 1 Axes>"
      ]
     },
     "metadata": {
      "needs_background": "light"
     },
     "output_type": "display_data"
    }
   ],
   "source": [
    "plt.barh(features_train.columns, opt.best_estimator_.feature_importances_)\n",
    "plt.title('Значимость признаков')\n",
    "plt.xlabel('Относительная значимость')\n",
    "plt.grid()\n",
    "plt.show()"
   ]
  },
  {
   "cell_type": "markdown",
   "id": "44b73430",
   "metadata": {},
   "source": [
    "## Выводы"
   ]
  },
  {
   "cell_type": "markdown",
   "id": "dfd75b08",
   "metadata": {},
   "source": [
    "Цель проекта - спрогнозировать, уйдёт клиент из банка в ближайшее время или нет. Вам предоставлены исторические данные о поведении клиентов и расторжении договоров с банком.\n",
    "\n",
    "Признаки\n",
    "\n",
    "    RowNumber — индекс строки в данных\n",
    "    CustomerId — уникальный идентификатор клиента\n",
    "    Surname — фамилия\n",
    "    CreditScore — кредитный рейтинг\n",
    "    Geography — страна проживания\n",
    "    Gender — пол\n",
    "    Age — возраст\n",
    "    Tenure — сколько лет человек является клиентом банка\n",
    "    Balance — баланс на счёте\n",
    "    NumOfProducts — количество продуктов банка, используемых клиентом\n",
    "    HasCrCard — наличие кредитной карты\n",
    "    IsActiveMember — активность клиента\n",
    "    EstimatedSalary — предполагаемая зарплата\n",
    "\n",
    "Целевой признак\n",
    "\n",
    "    Exited — факт ухода клиента\n",
    "\n",
    "Подготовка данных\n",
    "\n",
    "    - Датасет содержит 10000 образцов    \n",
    "    - Пропуски есть только в колонке Tenure, причем их порядка 10%, то есть просто отбрасывать эту часть данных некорректно. Можно допустить, что это люди, которые стали клиентами банка недавно, и заполнить пропуски нулями\n",
    "    - удалены признаки Surname и CustomerId как неинформативные\n",
    "    - Проведена фильтрация редких значений\n",
    "        - Частоты категориальных признаков составляют не менее 25%, то есть редких значений нет\n",
    "        - для CreditScore малые значения ниже 432\n",
    "        - для Age значения меньше 20 лет и больше 75 лет\n",
    "        - для баланса значения больше 193126\n",
    "        - для NumOfProducts больше 3\n",
    "    - Наблюдается аномалия в признаке Balance: очень много нулей при условии, что в целом данные распределены нормально. Нули одинаково представлены для обоих целевых классов, значение признака не коррелирует с другими признаками; нули заменены медианным значением признака.\n",
    "    - Пол кодирован простым сравнением с Female\n",
    "    - Страна преобразована в дамми-переменные с отбрасыванием первой избыточной переменной\n",
    "    - Признаки Balance, EstimatedSalary, CreditScore и Age выглядели чересчур многообразными для задачи классификации. Для преодоления их разбили на категории по квартилям\n",
    "    - Количественные признаки нормированы MinMaxScaler, чтобы в итоге все признаки попали в диапазон [0..1]  \n",
    "    - данные разбиты в пропорциях 70:15:15 на трейн, валидацию и тест с стратификацией по возрастам, поскольку данный признак сильно коррелирует с целевым\n",
    "\n",
    "Исследование задачи\n",
    "\n",
    "    - Наблюдается выраженный дисбаланс классов\n",
    "    - для SVC и логистической регрессии Recall на редком целевом классе низкий, то есть нужно компенсировать дисбаланс классов\n",
    "    - Наилучшие результаты показывает RandomForestClassifier с f1=0.53, его и будем оптимизировать\n",
    "    \n",
    "Борьба с дизбалансом\n",
    "\n",
    "    - Проверены методы устранения дисбаланса\n",
    "        - Отбрасывание образцов так, чтобы доли классов сравнялись (т.е. порядка 3/5 всех данных)\n",
    "        - Добавление дублированных редких образцов (по 3 дополнительные копии каждого)\n",
    "        - учет дизбаланса с помощью параметра class_weight модели\n",
    "    - Все методы дали примерно одинаковый результат f1~=0.571\n",
    "    - Для варианта с class weight проведена оптимизация гиперпараметров как для подхода, в наибольшей степени совместимого с кросс-валидацией; оптимальный набор {'n_estimators': 270, 'max_features': 5, 'max_depth': 10}; максимально достигнутая метрика f1=0.596\n",
    "    - Для дополнительной оптимизации проведен анализ кривой ROC\n",
    "        - В районе TPR 0.8 происходит резкое падение скорости ее роста и ускорение прироста FPR. \n",
    "        - Проведен поиск оптимального threshold в этом районе\n",
    "        - После threshold ~0.42 скорость снижения FPR меньше скорости снижения TPR, и  это значение принято как рабочий threshold\n",
    "        \n",
    "Тестирование модели\n",
    "\n",
    "    - Для итоговой модели на тестовой выборке получены следующие значения метрик\n",
    "    \n",
    "AUC=0.846 \n",
    "\n",
    "f1=0.598\n",
    "\n",
    "                  precision    recall  f1-score   support\n",
    "\n",
    "               0       0.92      0.85      0.88      1166\n",
    "               1       0.53      0.68      0.60       289\n",
    "\n",
    "        accuracy                           0.82      1455\n",
    "       macro avg       0.72      0.77      0.74      1455\n",
    "    weighted avg       0.84      0.82      0.83      1455\n",
    "    \n",
    "    - Наиболее значимыми признаками оказались возраст, категория возраста, число банковских продуктов и баланс"
   ]
  },
  {
   "cell_type": "markdown",
   "id": "f66dd54b",
   "metadata": {},
   "source": [
    "## Чек-лист готовности проекта"
   ]
  },
  {
   "cell_type": "markdown",
   "id": "79a60fe3",
   "metadata": {},
   "source": [
    "Поставьте 'x' в выполненных пунктах. Далее нажмите Shift+Enter."
   ]
  },
  {
   "cell_type": "markdown",
   "id": "558c8c06",
   "metadata": {},
   "source": [
    "- [x]  Jupyter Notebook открыт\n",
    "- [x]  Весь код выполняется без ошибок\n",
    "- [x]  Ячейки с кодом расположены в порядке исполнения\n",
    "- [x]  Выполнен шаг 1: данные подготовлены\n",
    "- [x]  Выполнен шаг 2: задача исследована\n",
    "    - [x]  Исследован баланс классов\n",
    "    - [x]  Изучены модели без учёта дисбаланса\n",
    "    - [x]  Написаны выводы по результатам исследования\n",
    "- [x]  Выполнен шаг 3: учтён дисбаланс\n",
    "    - [x]  Применено несколько способов борьбы с дисбалансом\n",
    "    - [x]  Написаны выводы по результатам исследования\n",
    "- [x]  Выполнен шаг 4: проведено тестирование\n",
    "- [x]  Удалось достичь *F1*-меры не менее 0.59\n",
    "- [x]  Исследована метрика *AUC-ROC*"
   ]
  },
  {
   "cell_type": "code",
   "execution_count": null,
   "id": "e0b19f51",
   "metadata": {},
   "outputs": [],
   "source": []
  }
 ],
 "metadata": {
  "kernelspec": {
   "display_name": "india-predictor",
   "language": "python",
   "name": "india-predictor"
  },
  "language_info": {
   "codemirror_mode": {
    "name": "ipython",
    "version": 3
   },
   "file_extension": ".py",
   "mimetype": "text/x-python",
   "name": "python",
   "nbconvert_exporter": "python",
   "pygments_lexer": "ipython3",
   "version": "3.8.10"
  },
  "toc": {
   "base_numbering": 1,
   "nav_menu": {},
   "number_sections": true,
   "sideBar": true,
   "skip_h1_title": false,
   "title_cell": "Table of Contents",
   "title_sidebar": "Contents",
   "toc_cell": false,
   "toc_position": {},
   "toc_section_display": true,
   "toc_window_display": false
  }
 },
 "nbformat": 4,
 "nbformat_minor": 5
}
